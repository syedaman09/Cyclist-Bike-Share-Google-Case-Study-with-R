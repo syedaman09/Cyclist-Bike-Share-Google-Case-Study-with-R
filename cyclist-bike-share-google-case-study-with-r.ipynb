{
 "cells": [
  {
   "cell_type": "markdown",
   "id": "fce3001d",
   "metadata": {
    "papermill": {
     "duration": 0.010175,
     "end_time": "2022-11-15T21:12:09.054574",
     "exception": false,
     "start_time": "2022-11-15T21:12:09.044399",
     "status": "completed"
    },
    "tags": []
   },
   "source": [
    "## Introduction\n",
    "\n",
    "                                      Google Capstone Project\n",
    "Cyclitic Bike Share: Case Study\n",
    "\n",
    "Syed Amanullah\n",
    "\n",
    "Welcome to the Cyclistic bike-share analysis case study! In this case study, I will be analysing a public data set of a bike-share company in Chicago.\n",
    "The director of marketing believes the company’s future success depends on maximizing the number of annual memberships. Therefore, team wants to understand how casual riders and annual members use Cyclistic bikes differently. From these insights, team will design a new marketing strategy to convert casual riders into annual members.\n",
    "\n",
    "The following data analysis steps will be followed:\n",
    "•\tAsk,\n",
    "•\tPrepare,\n",
    "•\tProcess,\n",
    "•\tAnalyse,\n",
    "•\tShare,\n",
    "•\tAct.\n",
    "\n",
    "## Ask-1\n",
    "\n",
    "Three questions will guide the future marketing program: \n",
    "1.\tHow do annual members and casual riders use Cyclistic bikes differently?\n",
    "2.\tWhy would casual riders buy Cyclistic annual memberships? \n",
    "3.\tHow can Cyclistic use digital media to influence casual riders to become members? \n",
    "\n",
    "**Business Task:**\n",
    "\n",
    "What could motivate the “casual” users to change to an “annual” member based on their behaviour?\n",
    "\n",
    " ## Prepare-2\n",
    " \n",
    "I will use Cyclistic’s historical trip data to analyse and identify trends. The data has been made available by Motivate International Inc. Datasets are available here link.\n",
    "Key task\n",
    "\n",
    "1.\tDownload data and store it appropriately.\n",
    "•\tData has been downloaded and copies have been stored securely on my computer and here on Kaggle.\n",
    "\n",
    "2.\tIdentify how it’s organized.\n",
    "•\tThe data is in CSV (comma-separated values) format, and there are a total of 13 columns.\n",
    "\n",
    "3.\tSort and filter the data.\n",
    "•\tFor this analysis, I will be using dataset of last 12 months (Aug 2021- Sept 2022), as it is current and more relevant to the business task and it has the more complete data with geo-location coordinates.\n",
    "\n",
    "4.\tDetermine the credibility of the data.\n",
    "•\tThis is a public data of bike sharing company. Data-privacy issues prohibit me from using riders’ personally identifiable information. Have not used private information of any riders. This data is appropriate for me to answer business questions."
   ]
  },
  {
   "cell_type": "markdown",
   "id": "0a4a6b2f",
   "metadata": {
    "papermill": {
     "duration": 0.008395,
     "end_time": "2022-11-15T21:12:09.071362",
     "exception": false,
     "start_time": "2022-11-15T21:12:09.062967",
     "status": "completed"
    },
    "tags": []
   },
   "source": [
    "Load and install necessary packages."
   ]
  },
  {
   "cell_type": "code",
   "execution_count": 1,
   "id": "883915c1",
   "metadata": {
    "execution": {
     "iopub.execute_input": "2022-11-15T21:12:09.095074Z",
     "iopub.status.busy": "2022-11-15T21:12:09.091550Z",
     "iopub.status.idle": "2022-11-15T21:12:11.067415Z",
     "shell.execute_reply": "2022-11-15T21:12:11.065030Z"
    },
    "papermill": {
     "duration": 1.990204,
     "end_time": "2022-11-15T21:12:11.070255",
     "exception": false,
     "start_time": "2022-11-15T21:12:09.080051",
     "status": "completed"
    },
    "tags": []
   },
   "outputs": [
    {
     "name": "stderr",
     "output_type": "stream",
     "text": [
      "── \u001b[1mAttaching packages\u001b[22m ─────────────────────────────────────── tidyverse 1.3.2 ──\n",
      "\u001b[32m✔\u001b[39m \u001b[34mggplot2\u001b[39m 3.3.6      \u001b[32m✔\u001b[39m \u001b[34mpurrr  \u001b[39m 0.3.5 \n",
      "\u001b[32m✔\u001b[39m \u001b[34mtibble \u001b[39m 3.1.8      \u001b[32m✔\u001b[39m \u001b[34mdplyr  \u001b[39m 1.0.10\n",
      "\u001b[32m✔\u001b[39m \u001b[34mtidyr  \u001b[39m 1.2.1      \u001b[32m✔\u001b[39m \u001b[34mstringr\u001b[39m 1.4.1 \n",
      "\u001b[32m✔\u001b[39m \u001b[34mreadr  \u001b[39m 2.1.3      \u001b[32m✔\u001b[39m \u001b[34mforcats\u001b[39m 0.5.2 \n",
      "── \u001b[1mConflicts\u001b[22m ────────────────────────────────────────── tidyverse_conflicts() ──\n",
      "\u001b[31m✖\u001b[39m \u001b[34mdplyr\u001b[39m::\u001b[32mfilter()\u001b[39m masks \u001b[34mstats\u001b[39m::filter()\n",
      "\u001b[31m✖\u001b[39m \u001b[34mdplyr\u001b[39m::\u001b[32mlag()\u001b[39m    masks \u001b[34mstats\u001b[39m::lag()\n",
      "\n",
      "Attaching package: ‘lubridate’\n",
      "\n",
      "\n",
      "The following objects are masked from ‘package:base’:\n",
      "\n",
      "    date, intersect, setdiff, union\n",
      "\n",
      "\n"
     ]
    }
   ],
   "source": [
    "# Load and install necessary packages.\n",
    "\n",
    "library(geosphere)\n",
    "library(tidyverse)\n",
    "library(ggplot2)\n",
    "library(dplyr)\n",
    "library(lubridate)"
   ]
  },
  {
   "cell_type": "code",
   "execution_count": 2,
   "id": "79da8d25",
   "metadata": {
    "execution": {
     "iopub.execute_input": "2022-11-15T21:12:11.127686Z",
     "iopub.status.busy": "2022-11-15T21:12:11.092121Z",
     "iopub.status.idle": "2022-11-15T21:14:10.559679Z",
     "shell.execute_reply": "2022-11-15T21:14:10.557595Z"
    },
    "papermill": {
     "duration": 119.484068,
     "end_time": "2022-11-15T21:14:10.563539",
     "exception": false,
     "start_time": "2022-11-15T21:12:11.079471",
     "status": "completed"
    },
    "tags": []
   },
   "outputs": [],
   "source": [
    "# Import CSV files\n",
    "\n",
    "Aug021 <- read.csv(\"../input/bike-share/Bike_share_data/202108-divvy-tripdata.csv\")\n",
    "Sep021 <- read.csv(\"../input/bike-share/Bike_share_data/202109-divvy-tripdata.csv\")\n",
    "Oct021 <- read.csv(\"../input/bike-share/Bike_share_data/202110-divvy-tripdata.csv\")\n",
    "Nov021 <- read.csv(\"../input/bike-share/Bike_share_data/202111-divvy-tripdata.csv\")\n",
    "Dec021 <- read.csv(\"../input/bike-share/Bike_share_data/202112-divvy-tripdata.csv\")\n",
    "Jan022 <- read.csv(\"../input/bike-share/Bike_share_data/202201-divvy-tripdata.csv\")\n",
    "Feb022 <- read.csv(\"../input/bike-share/Bike_share_data/202202-divvy-tripdata.csv\")\n",
    "Mar022 <- read.csv(\"../input/bike-share/Bike_share_data/202203-divvy-tripdata.csv\")\n",
    "Apr022 <- read.csv(\"../input/bike-share/Bike_share_data/202204-divvy-tripdata.csv\")\n",
    "May022 <- read.csv(\"../input/bike-share/Bike_share_data/202205-divvy-tripdata.csv\")\n",
    "Jun022 <- read.csv(\"../input/bike-share/Bike_share_data/202206-divvy-tripdata.csv\")\n",
    "Jul022 <- read.csv(\"../input/bike-share/Bike_share_data/202206-divvy-tripdata.csv\")"
   ]
  },
  {
   "cell_type": "code",
   "execution_count": 3,
   "id": "84332bca",
   "metadata": {
    "execution": {
     "iopub.execute_input": "2022-11-15T21:14:10.590764Z",
     "iopub.status.busy": "2022-11-15T21:14:10.589015Z",
     "iopub.status.idle": "2022-11-15T21:14:50.629217Z",
     "shell.execute_reply": "2022-11-15T21:14:50.626945Z"
    },
    "papermill": {
     "duration": 40.054957,
     "end_time": "2022-11-15T21:14:50.632571",
     "exception": false,
     "start_time": "2022-11-15T21:14:10.577614",
     "status": "completed"
    },
    "tags": []
   },
   "outputs": [],
   "source": [
    "# Merged monthly data in to the large data frame\n",
    "\n",
    "Bike_Data <- rbind(Aug021,Sep021,Oct021,Nov021,Dec021,Jan022,Feb022,Mar022,Apr022,May022,Jun022,Jul022)"
   ]
  },
  {
   "cell_type": "markdown",
   "id": "f7fe01ce",
   "metadata": {
    "papermill": {
     "duration": 0.009499,
     "end_time": "2022-11-15T21:14:50.651985",
     "exception": false,
     "start_time": "2022-11-15T21:14:50.642486",
     "status": "completed"
    },
    "tags": []
   },
   "source": [
    "## Process-3"
   ]
  },
  {
   "cell_type": "code",
   "execution_count": 4,
   "id": "e237a608",
   "metadata": {
    "execution": {
     "iopub.execute_input": "2022-11-15T21:14:50.673859Z",
     "iopub.status.busy": "2022-11-15T21:14:50.672093Z",
     "iopub.status.idle": "2022-11-15T21:15:00.440235Z",
     "shell.execute_reply": "2022-11-15T21:15:00.437814Z"
    },
    "papermill": {
     "duration": 9.782877,
     "end_time": "2022-11-15T21:15:00.444008",
     "exception": false,
     "start_time": "2022-11-15T21:14:50.661131",
     "status": "completed"
    },
    "tags": []
   },
   "outputs": [
    {
     "data": {
      "text/html": [
       "<style>\n",
       ".list-inline {list-style: none; margin:0; padding: 0}\n",
       ".list-inline>li {display: inline-block}\n",
       ".list-inline>li:not(:last-child)::after {content: \"\\00b7\"; padding: 0 .5ex}\n",
       "</style>\n",
       "<ol class=list-inline><li>5847179</li><li>13</li></ol>\n"
      ],
      "text/latex": [
       "\\begin{enumerate*}\n",
       "\\item 5847179\n",
       "\\item 13\n",
       "\\end{enumerate*}\n"
      ],
      "text/markdown": [
       "1. 5847179\n",
       "2. 13\n",
       "\n",
       "\n"
      ],
      "text/plain": [
       "[1] 5847179      13"
      ]
     },
     "metadata": {},
     "output_type": "display_data"
    },
    {
     "data": {
      "text/html": [
       "<style>\n",
       ".list-inline {list-style: none; margin:0; padding: 0}\n",
       ".list-inline>li {display: inline-block}\n",
       ".list-inline>li:not(:last-child)::after {content: \"\\00b7\"; padding: 0 .5ex}\n",
       "</style>\n",
       "<ol class=list-inline><li>'ride_id'</li><li>'rideable_type'</li><li>'started_at'</li><li>'ended_at'</li><li>'start_station_name'</li><li>'start_station_id'</li><li>'end_station_name'</li><li>'end_station_id'</li><li>'start_lat'</li><li>'start_lng'</li><li>'end_lat'</li><li>'end_lng'</li><li>'member_casual'</li></ol>\n"
      ],
      "text/latex": [
       "\\begin{enumerate*}\n",
       "\\item 'ride\\_id'\n",
       "\\item 'rideable\\_type'\n",
       "\\item 'started\\_at'\n",
       "\\item 'ended\\_at'\n",
       "\\item 'start\\_station\\_name'\n",
       "\\item 'start\\_station\\_id'\n",
       "\\item 'end\\_station\\_name'\n",
       "\\item 'end\\_station\\_id'\n",
       "\\item 'start\\_lat'\n",
       "\\item 'start\\_lng'\n",
       "\\item 'end\\_lat'\n",
       "\\item 'end\\_lng'\n",
       "\\item 'member\\_casual'\n",
       "\\end{enumerate*}\n"
      ],
      "text/markdown": [
       "1. 'ride_id'\n",
       "2. 'rideable_type'\n",
       "3. 'started_at'\n",
       "4. 'ended_at'\n",
       "5. 'start_station_name'\n",
       "6. 'start_station_id'\n",
       "7. 'end_station_name'\n",
       "8. 'end_station_id'\n",
       "9. 'start_lat'\n",
       "10. 'start_lng'\n",
       "11. 'end_lat'\n",
       "12. 'end_lng'\n",
       "13. 'member_casual'\n",
       "\n",
       "\n"
      ],
      "text/plain": [
       " [1] \"ride_id\"            \"rideable_type\"      \"started_at\"        \n",
       " [4] \"ended_at\"           \"start_station_name\" \"start_station_id\"  \n",
       " [7] \"end_station_name\"   \"end_station_id\"     \"start_lat\"         \n",
       "[10] \"start_lng\"          \"end_lat\"            \"end_lng\"           \n",
       "[13] \"member_casual\"     "
      ]
     },
     "metadata": {},
     "output_type": "display_data"
    },
    {
     "name": "stdout",
     "output_type": "stream",
     "text": [
      "'data.frame':\t5847179 obs. of  13 variables:\n",
      " $ ride_id           : chr  \"99103BB87CC6C1BB\" \"EAFCCCFB0A3FC5A1\" \"9EF4F46C57AD234D\" \"5834D3208BFAF1DA\" ...\n",
      " $ rideable_type     : chr  \"electric_bike\" \"electric_bike\" \"electric_bike\" \"electric_bike\" ...\n",
      " $ started_at        : chr  \"10-08-2021 17:15\" \"10-08-2021 17:23\" \"21-08-2021 02:34\" \"21-08-2021 06:52\" ...\n",
      " $ ended_at          : chr  \"10-08-2021 17:22\" \"10-08-2021 17:39\" \"21-08-2021 02:50\" \"21-08-2021 07:08\" ...\n",
      " $ start_station_name: chr  \"\" \"\" \"\" \"\" ...\n",
      " $ start_station_id  : chr  \"\" \"\" \"\" \"\" ...\n",
      " $ end_station_name  : chr  \"\" \"\" \"\" \"\" ...\n",
      " $ end_station_id    : chr  \"\" \"\" \"\" \"\" ...\n",
      " $ start_lat         : num  41.8 41.8 42 42 41.8 ...\n",
      " $ start_lng         : num  -87.7 -87.7 -87.7 -87.7 -87.6 ...\n",
      " $ end_lat           : num  41.8 41.8 42 42 41.8 ...\n",
      " $ end_lng           : num  -87.7 -87.6 -87.7 -87.7 -87.6 ...\n",
      " $ member_casual     : chr  \"member\" \"member\" \"member\" \"member\" ...\n"
     ]
    },
    {
     "data": {
      "text/plain": [
       "   ride_id          rideable_type       started_at          ended_at        \n",
       " Length:5847179     Length:5847179     Length:5847179     Length:5847179    \n",
       " Class :character   Class :character   Class :character   Class :character  \n",
       " Mode  :character   Mode  :character   Mode  :character   Mode  :character  \n",
       "                                                                            \n",
       "                                                                            \n",
       "                                                                            \n",
       "                                                                            \n",
       " start_station_name start_station_id   end_station_name   end_station_id    \n",
       " Length:5847179     Length:5847179     Length:5847179     Length:5847179    \n",
       " Class :character   Class :character   Class :character   Class :character  \n",
       " Mode  :character   Mode  :character   Mode  :character   Mode  :character  \n",
       "                                                                            \n",
       "                                                                            \n",
       "                                                                            \n",
       "                                                                            \n",
       "   start_lat       start_lng         end_lat         end_lng      \n",
       " Min.   :41.64   Min.   :-87.84   Min.   :41.39   Min.   :-88.97  \n",
       " 1st Qu.:41.88   1st Qu.:-87.66   1st Qu.:41.88   1st Qu.:-87.66  \n",
       " Median :41.90   Median :-87.64   Median :41.90   Median :-87.64  \n",
       " Mean   :41.90   Mean   :-87.65   Mean   :41.90   Mean   :-87.65  \n",
       " 3rd Qu.:41.93   3rd Qu.:-87.63   3rd Qu.:41.93   3rd Qu.:-87.63  \n",
       " Max.   :45.64   Max.   :-73.80   Max.   :42.17   Max.   :-87.50  \n",
       "                                  NA's   :5698    NA's   :5698    \n",
       " member_casual     \n",
       " Length:5847179    \n",
       " Class :character  \n",
       " Mode  :character  \n",
       "                   \n",
       "                   \n",
       "                   \n",
       "                   "
      ]
     },
     "metadata": {},
     "output_type": "display_data"
    }
   ],
   "source": [
    "## Data Cleaning and preparing for analysis\n",
    "\n",
    "# Exploring Data set to know more about it.\n",
    "\n",
    "dim(Bike_Data)#Dimesions of the data frame\n",
    "colnames(Bike_Data)#Columns name of the data frame\n",
    "str(Bike_Data)#Structure and data types\n",
    "summary(Bike_Data) \n"
   ]
  },
  {
   "cell_type": "code",
   "execution_count": 5,
   "id": "494f46a2",
   "metadata": {
    "execution": {
     "iopub.execute_input": "2022-11-15T21:15:00.467231Z",
     "iopub.status.busy": "2022-11-15T21:15:00.465514Z",
     "iopub.status.idle": "2022-11-15T21:15:01.999008Z",
     "shell.execute_reply": "2022-11-15T21:15:01.996864Z"
    },
    "papermill": {
     "duration": 1.548685,
     "end_time": "2022-11-15T21:15:02.002881",
     "exception": false,
     "start_time": "2022-11-15T21:15:00.454196",
     "status": "completed"
    },
    "tags": []
   },
   "outputs": [],
   "source": [
    "\n",
    "# Dropped all na/missing values\n",
    "\n",
    "Bike_Data <- drop_na(Bike_Data)\n"
   ]
  },
  {
   "cell_type": "code",
   "execution_count": 6,
   "id": "06448055",
   "metadata": {
    "execution": {
     "iopub.execute_input": "2022-11-15T21:15:02.026862Z",
     "iopub.status.busy": "2022-11-15T21:15:02.025049Z",
     "iopub.status.idle": "2022-11-15T21:15:37.294823Z",
     "shell.execute_reply": "2022-11-15T21:15:37.292829Z"
    },
    "papermill": {
     "duration": 35.294966,
     "end_time": "2022-11-15T21:15:37.307318",
     "exception": false,
     "start_time": "2022-11-15T21:15:02.012352",
     "status": "completed"
    },
    "tags": []
   },
   "outputs": [
    {
     "data": {
      "text/html": [
       "<style>\n",
       ".list-inline {list-style: none; margin:0; padding: 0}\n",
       ".list-inline>li {display: inline-block}\n",
       ".list-inline>li:not(:last-child)::after {content: \"\\00b7\"; padding: 0 .5ex}\n",
       "</style>\n",
       "<ol class=list-inline><li>'ride_id'</li><li>'rideable_type'</li><li>'started_at'</li><li>'ended_at'</li><li>'start_station_name'</li><li>'start_station_id'</li><li>'end_station_name'</li><li>'end_station_id'</li><li>'start_lat'</li><li>'start_lng'</li><li>'end_lat'</li><li>'end_lng'</li><li>'member_casual'</li><li>'Date'</li><li>'Day'</li><li>'Month'</li><li>'Year'</li><li>'Day_OF_Week'</li></ol>\n"
      ],
      "text/latex": [
       "\\begin{enumerate*}\n",
       "\\item 'ride\\_id'\n",
       "\\item 'rideable\\_type'\n",
       "\\item 'started\\_at'\n",
       "\\item 'ended\\_at'\n",
       "\\item 'start\\_station\\_name'\n",
       "\\item 'start\\_station\\_id'\n",
       "\\item 'end\\_station\\_name'\n",
       "\\item 'end\\_station\\_id'\n",
       "\\item 'start\\_lat'\n",
       "\\item 'start\\_lng'\n",
       "\\item 'end\\_lat'\n",
       "\\item 'end\\_lng'\n",
       "\\item 'member\\_casual'\n",
       "\\item 'Date'\n",
       "\\item 'Day'\n",
       "\\item 'Month'\n",
       "\\item 'Year'\n",
       "\\item 'Day\\_OF\\_Week'\n",
       "\\end{enumerate*}\n"
      ],
      "text/markdown": [
       "1. 'ride_id'\n",
       "2. 'rideable_type'\n",
       "3. 'started_at'\n",
       "4. 'ended_at'\n",
       "5. 'start_station_name'\n",
       "6. 'start_station_id'\n",
       "7. 'end_station_name'\n",
       "8. 'end_station_id'\n",
       "9. 'start_lat'\n",
       "10. 'start_lng'\n",
       "11. 'end_lat'\n",
       "12. 'end_lng'\n",
       "13. 'member_casual'\n",
       "14. 'Date'\n",
       "15. 'Day'\n",
       "16. 'Month'\n",
       "17. 'Year'\n",
       "18. 'Day_OF_Week'\n",
       "\n",
       "\n"
      ],
      "text/plain": [
       " [1] \"ride_id\"            \"rideable_type\"      \"started_at\"        \n",
       " [4] \"ended_at\"           \"start_station_name\" \"start_station_id\"  \n",
       " [7] \"end_station_name\"   \"end_station_id\"     \"start_lat\"         \n",
       "[10] \"start_lng\"          \"end_lat\"            \"end_lng\"           \n",
       "[13] \"member_casual\"      \"Date\"               \"Day\"               \n",
       "[16] \"Month\"              \"Year\"               \"Day_OF_Week\"       "
      ]
     },
     "metadata": {},
     "output_type": "display_data"
    }
   ],
   "source": [
    "# Seprating the dates in to day,month, year and day of the week\n",
    "\n",
    "Bike_Data$Date <- as.Date(Bike_Data$started_at)\n",
    "Bike_Data$Day <- format(as.Date(Bike_Data$Date),\"%d\")\n",
    "Bike_Data$Month <- format(as.Date(Bike_Data$Date),\"%B\")\n",
    "Bike_Data$Year <- format(as.Date(Bike_Data$Date),\"%Y\")\n",
    "Bike_Data$Day_OF_Week <- format(as.Date(Bike_Data$Date),\"%A\")\n",
    "\n",
    "colnames(Bike_Data)# To get columns name of the data frame"
   ]
  },
  {
   "cell_type": "code",
   "execution_count": 7,
   "id": "f0e86b03",
   "metadata": {
    "execution": {
     "iopub.execute_input": "2022-11-15T21:15:37.331061Z",
     "iopub.status.busy": "2022-11-15T21:15:37.329257Z",
     "iopub.status.idle": "2022-11-15T21:15:37.349304Z",
     "shell.execute_reply": "2022-11-15T21:15:37.347299Z"
    },
    "papermill": {
     "duration": 0.03533,
     "end_time": "2022-11-15T21:15:37.352131",
     "exception": false,
     "start_time": "2022-11-15T21:15:37.316801",
     "status": "completed"
    },
    "tags": []
   },
   "outputs": [],
   "source": [
    "# Suprressing warning \n",
    "\n",
    "options(warn=-1)\n",
    "\n",
    "# Not allowing R to use scientific notation till specified number\n",
    " options(scipen=1000000)\n"
   ]
  },
  {
   "cell_type": "markdown",
   "id": "37ed0366",
   "metadata": {
    "papermill": {
     "duration": 0.010051,
     "end_time": "2022-11-15T21:15:37.372705",
     "exception": false,
     "start_time": "2022-11-15T21:15:37.362654",
     "status": "completed"
    },
    "tags": []
   },
   "source": [
    "Creating new column started time and ended and changing their format as format are inconsitence"
   ]
  },
  {
   "cell_type": "code",
   "execution_count": 8,
   "id": "68f4259d",
   "metadata": {
    "execution": {
     "iopub.execute_input": "2022-11-15T21:15:37.395462Z",
     "iopub.status.busy": "2022-11-15T21:15:37.393686Z",
     "iopub.status.idle": "2022-11-15T21:16:03.066127Z",
     "shell.execute_reply": "2022-11-15T21:16:03.064006Z"
    },
    "papermill": {
     "duration": 25.687351,
     "end_time": "2022-11-15T21:16:03.069403",
     "exception": false,
     "start_time": "2022-11-15T21:15:37.382052",
     "status": "completed"
    },
    "tags": []
   },
   "outputs": [],
   "source": [
    "Bike_Data$started_time <- format(Bike_Data$started_at, format = \"%H:%M\")"
   ]
  },
  {
   "cell_type": "code",
   "execution_count": 9,
   "id": "c8678af5",
   "metadata": {
    "execution": {
     "iopub.execute_input": "2022-11-15T21:16:03.093213Z",
     "iopub.status.busy": "2022-11-15T21:16:03.091461Z",
     "iopub.status.idle": "2022-11-15T21:16:29.699466Z",
     "shell.execute_reply": "2022-11-15T21:16:29.697328Z"
    },
    "papermill": {
     "duration": 26.623323,
     "end_time": "2022-11-15T21:16:29.702784",
     "exception": false,
     "start_time": "2022-11-15T21:16:03.079461",
     "status": "completed"
    },
    "tags": []
   },
   "outputs": [],
   "source": [
    "Bike_Data$ended_time<- format(Bike_Data$ended_at, format = \"%H:%M\")"
   ]
  },
  {
   "cell_type": "code",
   "execution_count": 10,
   "id": "7d5f17ae",
   "metadata": {
    "execution": {
     "iopub.execute_input": "2022-11-15T21:16:29.728126Z",
     "iopub.status.busy": "2022-11-15T21:16:29.726418Z",
     "iopub.status.idle": "2022-11-15T21:16:40.142222Z",
     "shell.execute_reply": "2022-11-15T21:16:40.139880Z"
    },
    "papermill": {
     "duration": 10.431811,
     "end_time": "2022-11-15T21:16:40.145788",
     "exception": false,
     "start_time": "2022-11-15T21:16:29.713977",
     "status": "completed"
    },
    "tags": []
   },
   "outputs": [
    {
     "name": "stdout",
     "output_type": "stream",
     "text": [
      "'data.frame':\t5841481 obs. of  21 variables:\n",
      " $ ride_id           : chr  \"99103BB87CC6C1BB\" \"EAFCCCFB0A3FC5A1\" \"9EF4F46C57AD234D\" \"5834D3208BFAF1DA\" ...\n",
      " $ rideable_type     : chr  \"electric_bike\" \"electric_bike\" \"electric_bike\" \"electric_bike\" ...\n",
      " $ started_at        : chr  \"10-08-2021 17:15\" \"10-08-2021 17:23\" \"21-08-2021 02:34\" \"21-08-2021 06:52\" ...\n",
      " $ ended_at          : chr  \"10-08-2021 17:22\" \"10-08-2021 17:39\" \"21-08-2021 02:50\" \"21-08-2021 07:08\" ...\n",
      " $ start_station_name: chr  \"\" \"\" \"\" \"\" ...\n",
      " $ start_station_id  : chr  \"\" \"\" \"\" \"\" ...\n",
      " $ end_station_name  : chr  \"\" \"\" \"\" \"\" ...\n",
      " $ end_station_id    : chr  \"\" \"\" \"\" \"\" ...\n",
      " $ start_lat         : num  41.8 41.8 42 42 41.8 ...\n",
      " $ start_lng         : num  -87.7 -87.7 -87.7 -87.7 -87.6 ...\n",
      " $ end_lat           : num  41.8 41.8 42 42 41.8 ...\n",
      " $ end_lng           : num  -87.7 -87.6 -87.7 -87.7 -87.6 ...\n",
      " $ member_casual     : chr  \"member\" \"member\" \"member\" \"member\" ...\n",
      " $ Date              : Date, format: \"10-08-20\" \"10-08-20\" ...\n",
      " $ Day               : chr  \"20\" \"20\" \"20\" \"20\" ...\n",
      " $ Month             : chr  \"August\" \"August\" \"August\" \"August\" ...\n",
      " $ Year              : chr  \"10\" \"10\" \"21\" \"21\" ...\n",
      " $ Day_OF_Week       : chr  \"Friday\" \"Friday\" \"Friday\" \"Friday\" ...\n",
      " $ started_time      : chr  \"10-08-2021 17:15   \" \"10-08-2021 17:23   \" \"21-08-2021 02:34   \" \"21-08-2021 06:52   \" ...\n",
      " $ ended_time        : chr  \"10-08-2021 17:22   \" \"10-08-2021 17:39   \" \"21-08-2021 02:50   \" \"21-08-2021 07:08   \" ...\n",
      " $ ride_length       :Formal class 'Interval' [package \"lubridate\"] with 3 slots\n",
      "  .. ..@ .Data: num  7 16 16 16 9 6 16 6 1 18 ...\n",
      "  .. ..@ start: POSIXct, format: \"2010-08-20 21:17:15\" \"2010-08-20 21:17:23\" ...\n",
      "  .. ..@ tzone: chr \"UTC\"\n"
     ]
    }
   ],
   "source": [
    "\n",
    "# Adding new columns as Ride length and ride distance \n",
    "\n",
    "Bike_Data$ride_length <- interval(Bike_Data$started_time,Bike_Data$ended_time)\n",
    "\n",
    "str(Bike_Data) #to inspect the structure of the columns\n"
   ]
  },
  {
   "cell_type": "code",
   "execution_count": 11,
   "id": "5c2b6e42",
   "metadata": {
    "execution": {
     "iopub.execute_input": "2022-11-15T21:16:40.169704Z",
     "iopub.status.busy": "2022-11-15T21:16:40.167834Z",
     "iopub.status.idle": "2022-11-15T21:16:40.186568Z",
     "shell.execute_reply": "2022-11-15T21:16:40.184438Z"
    },
    "papermill": {
     "duration": 0.03456,
     "end_time": "2022-11-15T21:16:40.190006",
     "exception": false,
     "start_time": "2022-11-15T21:16:40.155446",
     "status": "completed"
    },
    "tags": []
   },
   "outputs": [],
   "source": [
    "Bike_Data$ride_length <-as.numeric(Bike_Data$ride_length) # Changing ride length in to numeric"
   ]
  },
  {
   "cell_type": "code",
   "execution_count": 12,
   "id": "521a760f",
   "metadata": {
    "execution": {
     "iopub.execute_input": "2022-11-15T21:16:40.213546Z",
     "iopub.status.busy": "2022-11-15T21:16:40.211712Z",
     "iopub.status.idle": "2022-11-15T21:16:55.450954Z",
     "shell.execute_reply": "2022-11-15T21:16:55.448803Z"
    },
    "papermill": {
     "duration": 15.254739,
     "end_time": "2022-11-15T21:16:55.454429",
     "exception": false,
     "start_time": "2022-11-15T21:16:40.199690",
     "status": "completed"
    },
    "tags": []
   },
   "outputs": [],
   "source": [
    "# Ride Distance\n",
    "\n",
    "Bike_Data$Ride_distance <- distGeo(matrix(c(Bike_Data$start_lng,Bike_Data$start_lat),ncol=2),\n",
    "matrix(c(Bike_Data$end_lng,Bike_Data$end_lat),ncol=2)) \n",
    "\n",
    "Bike_Data$Ride_distance <- Bike_Data$Ride_distance/1000 # Distance in KM\n"
   ]
  },
  {
   "cell_type": "code",
   "execution_count": 13,
   "id": "2c695a6c",
   "metadata": {
    "execution": {
     "iopub.execute_input": "2022-11-15T21:16:55.482568Z",
     "iopub.status.busy": "2022-11-15T21:16:55.480824Z",
     "iopub.status.idle": "2022-11-15T21:17:00.522258Z",
     "shell.execute_reply": "2022-11-15T21:17:00.520046Z"
    },
    "papermill": {
     "duration": 5.063988,
     "end_time": "2022-11-15T21:17:00.527917",
     "exception": false,
     "start_time": "2022-11-15T21:16:55.463929",
     "status": "completed"
    },
    "tags": []
   },
   "outputs": [],
   "source": [
    "# Dropped all na/missing values\n",
    "\n",
    "Bike_Data <- drop_na(Bike_Data)"
   ]
  },
  {
   "cell_type": "markdown",
   "id": "ea7ad1ed",
   "metadata": {
    "papermill": {
     "duration": 0.01682,
     "end_time": "2022-11-15T21:17:00.559858",
     "exception": false,
     "start_time": "2022-11-15T21:17:00.543038",
     "status": "completed"
    },
    "tags": []
   },
   "source": [
    "**#The data frame includes a few hundred entries when bikes where taken out of docks and checked \n",
    "for quality by Divvy where ride_length was negative or \"zero\"**"
   ]
  },
  {
   "cell_type": "code",
   "execution_count": 14,
   "id": "7a8f55c5",
   "metadata": {
    "execution": {
     "iopub.execute_input": "2022-11-15T21:17:00.591106Z",
     "iopub.status.busy": "2022-11-15T21:17:00.588125Z",
     "iopub.status.idle": "2022-11-15T21:17:17.831321Z",
     "shell.execute_reply": "2022-11-15T21:17:17.829034Z"
    },
    "papermill": {
     "duration": 17.260566,
     "end_time": "2022-11-15T21:17:17.834722",
     "exception": false,
     "start_time": "2022-11-15T21:17:00.574156",
     "status": "completed"
    },
    "tags": []
   },
   "outputs": [],
   "source": [
    "Bike_Data <-Bike_Data[!(Bike_Data$ride_length <0),]"
   ]
  },
  {
   "cell_type": "code",
   "execution_count": 15,
   "id": "21974016",
   "metadata": {
    "execution": {
     "iopub.execute_input": "2022-11-15T21:17:17.858858Z",
     "iopub.status.busy": "2022-11-15T21:17:17.856986Z",
     "iopub.status.idle": "2022-11-15T21:17:23.583065Z",
     "shell.execute_reply": "2022-11-15T21:17:23.581031Z"
    },
    "papermill": {
     "duration": 5.741076,
     "end_time": "2022-11-15T21:17:23.585752",
     "exception": false,
     "start_time": "2022-11-15T21:17:17.844676",
     "status": "completed"
    },
    "tags": []
   },
   "outputs": [
    {
     "name": "stdout",
     "output_type": "stream",
     "text": [
      "Rows: 5,841,266\n",
      "Columns: 22\n",
      "$ ride_id            \u001b[3m\u001b[90m<chr>\u001b[39m\u001b[23m \"99103BB87CC6C1BB\", \"EAFCCCFB0A3FC5A1\", \"9EF4F46C57…\n",
      "$ rideable_type      \u001b[3m\u001b[90m<chr>\u001b[39m\u001b[23m \"electric_bike\", \"electric_bike\", \"electric_bike\", …\n",
      "$ started_at         \u001b[3m\u001b[90m<chr>\u001b[39m\u001b[23m \"10-08-2021 17:15\", \"10-08-2021 17:23\", \"21-08-2021…\n",
      "$ ended_at           \u001b[3m\u001b[90m<chr>\u001b[39m\u001b[23m \"10-08-2021 17:22\", \"10-08-2021 17:39\", \"21-08-2021…\n",
      "$ start_station_name \u001b[3m\u001b[90m<chr>\u001b[39m\u001b[23m \"\", \"\", \"\", \"\", \"\", \"\", \"\", \"\", \"\", \"\", \"\", \"\", \"\",…\n",
      "$ start_station_id   \u001b[3m\u001b[90m<chr>\u001b[39m\u001b[23m \"\", \"\", \"\", \"\", \"\", \"\", \"\", \"\", \"\", \"\", \"\", \"\", \"\",…\n",
      "$ end_station_name   \u001b[3m\u001b[90m<chr>\u001b[39m\u001b[23m \"\", \"\", \"\", \"\", \"\", \"\", \"\", \"Clark St & Grace St\", …\n",
      "$ end_station_id     \u001b[3m\u001b[90m<chr>\u001b[39m\u001b[23m \"\", \"\", \"\", \"\", \"\", \"\", \"\", \"TA1307000127\", \"\", \"\",…\n",
      "$ start_lat          \u001b[3m\u001b[90m<dbl>\u001b[39m\u001b[23m 41.77000, 41.77000, 41.95000, 41.97000, 41.79000, 4…\n",
      "$ start_lng          \u001b[3m\u001b[90m<dbl>\u001b[39m\u001b[23m -87.68000, -87.68000, -87.65000, -87.67000, -87.600…\n",
      "$ end_lat            \u001b[3m\u001b[90m<dbl>\u001b[39m\u001b[23m 41.77000, 41.77000, 41.97000, 41.95000, 41.77000, 4…\n",
      "$ end_lng            \u001b[3m\u001b[90m<dbl>\u001b[39m\u001b[23m -87.68000, -87.63000, -87.66000, -87.65000, -87.620…\n",
      "$ member_casual      \u001b[3m\u001b[90m<chr>\u001b[39m\u001b[23m \"member\", \"member\", \"member\", \"member\", \"member\", \"…\n",
      "$ Date               \u001b[3m\u001b[90m<date>\u001b[39m\u001b[23m 10-08-20, 10-08-20, 21-08-20, 21-08-20, 19-08-20, …\n",
      "$ Day                \u001b[3m\u001b[90m<chr>\u001b[39m\u001b[23m \"20\", \"20\", \"20\", \"20\", \"20\", \"20\", \"20\", \"20\", \"20…\n",
      "$ Month              \u001b[3m\u001b[90m<chr>\u001b[39m\u001b[23m \"August\", \"August\", \"August\", \"August\", \"August\", \"…\n",
      "$ Year               \u001b[3m\u001b[90m<chr>\u001b[39m\u001b[23m \"10\", \"10\", \"21\", \"21\", \"19\", \"19\", \"19\", \"13\", \"17…\n",
      "$ Day_OF_Week        \u001b[3m\u001b[90m<chr>\u001b[39m\u001b[23m \"Friday\", \"Friday\", \"Friday\", \"Friday\", \"Tuesday\", …\n",
      "$ started_time       \u001b[3m\u001b[90m<chr>\u001b[39m\u001b[23m \"10-08-2021 17:15   \", \"10-08-2021 17:23   \", \"21-0…\n",
      "$ ended_time         \u001b[3m\u001b[90m<chr>\u001b[39m\u001b[23m \"10-08-2021 17:22   \", \"10-08-2021 17:39   \", \"21-0…\n",
      "$ ride_length        \u001b[3m\u001b[90m<dbl>\u001b[39m\u001b[23m 7, 16, 16, 16, 9, 6, 16, 6, 1, 18, 6, 6, 30, 34, 15…\n",
      "$ Ride_distance      \u001b[3m\u001b[90m<dbl>\u001b[39m\u001b[23m 0.0000000, 4.1574219, 2.3711021, 2.7719991, 2.77473…\n"
     ]
    },
    {
     "data": {
      "text/plain": [
       "   ride_id          rideable_type       started_at          ended_at        \n",
       " Length:5841266     Length:5841266     Length:5841266     Length:5841266    \n",
       " Class :character   Class :character   Class :character   Class :character  \n",
       " Mode  :character   Mode  :character   Mode  :character   Mode  :character  \n",
       "                                                                            \n",
       "                                                                            \n",
       "                                                                            \n",
       " start_station_name start_station_id   end_station_name   end_station_id    \n",
       " Length:5841266     Length:5841266     Length:5841266     Length:5841266    \n",
       " Class :character   Class :character   Class :character   Class :character  \n",
       " Mode  :character   Mode  :character   Mode  :character   Mode  :character  \n",
       "                                                                            \n",
       "                                                                            \n",
       "                                                                            \n",
       "   start_lat       start_lng         end_lat         end_lng      \n",
       " Min.   :41.64   Min.   :-87.84   Min.   :41.39   Min.   :-88.97  \n",
       " 1st Qu.:41.88   1st Qu.:-87.66   1st Qu.:41.88   1st Qu.:-87.66  \n",
       " Median :41.90   Median :-87.64   Median :41.90   Median :-87.64  \n",
       " Mean   :41.90   Mean   :-87.65   Mean   :41.90   Mean   :-87.65  \n",
       " 3rd Qu.:41.93   3rd Qu.:-87.63   3rd Qu.:41.93   3rd Qu.:-87.63  \n",
       " Max.   :45.64   Max.   :-73.80   Max.   :42.17   Max.   :-87.50  \n",
       " member_casual           Date                Day               Month          \n",
       " Length:5841266     Min.   :1-08-20      Length:5841266     Length:5841266    \n",
       " Class :character   1st Qu.:2021-09-26   Class :character   Class :character  \n",
       " Mode  :character   Median :2022-02-08   Mode  :character   Mode  :character  \n",
       "                    Mean   :1746-03-26                                        \n",
       "                    3rd Qu.:2022-06-02                                        \n",
       "                    Max.   :2022-06-30                                        \n",
       "     Year           Day_OF_Week        started_time        ended_time       \n",
       " Length:5841266     Length:5841266     Length:5841266     Length:5841266    \n",
       " Class :character   Class :character   Class :character   Class :character  \n",
       " Mode  :character   Mode  :character   Mode  :character   Mode  :character  \n",
       "                                                                            \n",
       "                                                                            \n",
       "                                                                            \n",
       "  ride_length        Ride_distance      \n",
       " Min.   :        0   Min.   :   0.0000  \n",
       " 1st Qu.:      248   1st Qu.:   0.8884  \n",
       " Median :      542   Median :   1.6030  \n",
       " Mean   :    32963   Mean   :   2.1628  \n",
       " 3rd Qu.:     1041   3rd Qu.:   2.8327  \n",
       " Max.   :915148669   Max.   :1192.2456  "
      ]
     },
     "metadata": {},
     "output_type": "display_data"
    }
   ],
   "source": [
    "#Checking clean Data\n",
    "\n",
    "glimpse(Bike_Data)\n",
    "\n",
    "summary(Bike_Data)"
   ]
  },
  {
   "cell_type": "markdown",
   "id": "4e9de7b9",
   "metadata": {
    "papermill": {
     "duration": 0.01014,
     "end_time": "2022-11-15T21:17:23.606509",
     "exception": false,
     "start_time": "2022-11-15T21:17:23.596369",
     "status": "completed"
    },
    "tags": []
   },
   "source": [
    "## Analyse-4"
   ]
  },
  {
   "cell_type": "markdown",
   "id": "270e3f69",
   "metadata": {
    "papermill": {
     "duration": 0.010469,
     "end_time": "2022-11-15T21:17:23.627704",
     "exception": false,
     "start_time": "2022-11-15T21:17:23.617235",
     "status": "completed"
    },
    "tags": []
   },
   "source": [
    "**Conducting descriptive analysis**"
   ]
  },
  {
   "cell_type": "code",
   "execution_count": 16,
   "id": "326b1a3d",
   "metadata": {
    "execution": {
     "iopub.execute_input": "2022-11-15T21:17:23.653081Z",
     "iopub.status.busy": "2022-11-15T21:17:23.651163Z",
     "iopub.status.idle": "2022-11-15T21:17:30.695500Z",
     "shell.execute_reply": "2022-11-15T21:17:30.693465Z"
    },
    "papermill": {
     "duration": 7.059902,
     "end_time": "2022-11-15T21:17:30.698498",
     "exception": false,
     "start_time": "2022-11-15T21:17:23.638596",
     "status": "completed"
    },
    "tags": []
   },
   "outputs": [
    {
     "data": {
      "text/plain": [
       "     Min.   1st Qu.    Median      Mean   3rd Qu.      Max. \n",
       "        0       248       542     32963      1041 915148669 "
      ]
     },
     "metadata": {},
     "output_type": "display_data"
    },
    {
     "data": {
      "text/html": [
       "<table class=\"dataframe\">\n",
       "<caption>A tibble: 2 × 4</caption>\n",
       "<thead>\n",
       "\t<tr><th scope=col>member_casual</th><th scope=col>AVG_ride_length</th><th scope=col>median_ride_length</th><th scope=col>max_ride_length</th></tr>\n",
       "\t<tr><th scope=col>&lt;chr&gt;</th><th scope=col>&lt;dbl&gt;</th><th scope=col>&lt;dbl&gt;</th><th scope=col>&lt;dbl&gt;</th></tr>\n",
       "</thead>\n",
       "<tbody>\n",
       "\t<tr><td>casual</td><td>59961.12</td><td>687</td><td>915148669</td></tr>\n",
       "\t<tr><td>member</td><td>13041.12</td><td>466</td><td> 31622307</td></tr>\n",
       "</tbody>\n",
       "</table>\n"
      ],
      "text/latex": [
       "A tibble: 2 × 4\n",
       "\\begin{tabular}{llll}\n",
       " member\\_casual & AVG\\_ride\\_length & median\\_ride\\_length & max\\_ride\\_length\\\\\n",
       " <chr> & <dbl> & <dbl> & <dbl>\\\\\n",
       "\\hline\n",
       "\t casual & 59961.12 & 687 & 915148669\\\\\n",
       "\t member & 13041.12 & 466 &  31622307\\\\\n",
       "\\end{tabular}\n"
      ],
      "text/markdown": [
       "\n",
       "A tibble: 2 × 4\n",
       "\n",
       "| member_casual &lt;chr&gt; | AVG_ride_length &lt;dbl&gt; | median_ride_length &lt;dbl&gt; | max_ride_length &lt;dbl&gt; |\n",
       "|---|---|---|---|\n",
       "| casual | 59961.12 | 687 | 915148669 |\n",
       "| member | 13041.12 | 466 |  31622307 |\n",
       "\n"
      ],
      "text/plain": [
       "  member_casual AVG_ride_length median_ride_length max_ride_length\n",
       "1 casual        59961.12        687                915148669      \n",
       "2 member        13041.12        466                 31622307      "
      ]
     },
     "metadata": {},
     "output_type": "display_data"
    }
   ],
   "source": [
    "\n",
    "# finding mean, max and median of ride lenght\n",
    "\n",
    "# Comparing Casual and members\n",
    "\n",
    "summary(Bike_Data$ride_length)\n",
    "\n",
    "Bike_Data %>% \n",
    "  group_by(member_casual)%>% summarise(AVG_ride_length=mean(ride_length),median_ride_length=median(ride_length), \n",
    "max_ride_length =max(ride_length))\n",
    "\n",
    "\n"
   ]
  },
  {
   "cell_type": "code",
   "execution_count": 17,
   "id": "4a2afdc5",
   "metadata": {
    "execution": {
     "iopub.execute_input": "2022-11-15T21:17:30.723098Z",
     "iopub.status.busy": "2022-11-15T21:17:30.721272Z",
     "iopub.status.idle": "2022-11-15T21:17:31.870009Z",
     "shell.execute_reply": "2022-11-15T21:17:31.866888Z"
    },
    "papermill": {
     "duration": 1.16468,
     "end_time": "2022-11-15T21:17:31.873425",
     "exception": false,
     "start_time": "2022-11-15T21:17:30.708745",
     "status": "completed"
    },
    "tags": []
   },
   "outputs": [
    {
     "data": {
      "image/png": "[encoded data removed]"
     },
     "metadata": {
      "image/png": {
       "height": 420,
       "width": 420
      }
     },
     "output_type": "display_data"
    }
   ],
   "source": [
    "# Visualising member and casual rider by the total ride taken  by them\n",
    "\n",
    "Bike_Data %>%\n",
    "group_by(member_casual) %>%\n",
    "summarise(ride_count=length(ride_id))%>%\n",
    "ggplot(aes(x=member_casual,y=ride_count, fill =member_casual))+ geom_col(position='dodge')+\n",
    "labs(title=\" Member VS Casual distribution\", x= \"Member & Casual\", y=\"ride Count\")\n"
   ]
  },
  {
   "cell_type": "markdown",
   "id": "2e9c5127",
   "metadata": {
    "papermill": {
     "duration": 0.011286,
     "end_time": "2022-11-15T21:17:31.895846",
     "exception": false,
     "start_time": "2022-11-15T21:17:31.884560",
     "status": "completed"
    },
    "tags": []
   },
   "source": [
    "By observing above chart we can see that there are more number of member riders as comparision to casual rider "
   ]
  },
  {
   "cell_type": "code",
   "execution_count": 18,
   "id": "af30eb37",
   "metadata": {
    "execution": {
     "iopub.execute_input": "2022-11-15T21:17:31.922399Z",
     "iopub.status.busy": "2022-11-15T21:17:31.920478Z",
     "iopub.status.idle": "2022-11-15T21:17:32.277071Z",
     "shell.execute_reply": "2022-11-15T21:17:32.274777Z"
    },
    "papermill": {
     "duration": 0.371932,
     "end_time": "2022-11-15T21:17:32.279561",
     "exception": false,
     "start_time": "2022-11-15T21:17:31.907629",
     "status": "completed"
    },
    "tags": []
   },
   "outputs": [
    {
     "data": {
      "text/html": [
       "<table class=\"dataframe\">\n",
       "<caption>A tibble: 14 × 3</caption>\n",
       "<thead>\n",
       "\t<tr><th scope=col>member_casual</th><th scope=col>Day_OF_Week</th><th scope=col>number_of_rides</th></tr>\n",
       "\t<tr><th scope=col>&lt;chr&gt;</th><th scope=col>&lt;ord&gt;</th><th scope=col>&lt;int&gt;</th></tr>\n",
       "</thead>\n",
       "<tbody>\n",
       "\t<tr><td>casual</td><td>Sunday   </td><td>430235</td></tr>\n",
       "\t<tr><td>casual</td><td>Monday   </td><td>319082</td></tr>\n",
       "\t<tr><td>casual</td><td>Tuesday  </td><td>277307</td></tr>\n",
       "\t<tr><td>casual</td><td>Wednesday</td><td>315546</td></tr>\n",
       "\t<tr><td>casual</td><td>Thursday </td><td>332248</td></tr>\n",
       "\t<tr><td>casual</td><td>Friday   </td><td>342139</td></tr>\n",
       "\t<tr><td>casual</td><td>Saturday </td><td>463655</td></tr>\n",
       "\t<tr><td>member</td><td>Sunday   </td><td>403438</td></tr>\n",
       "\t<tr><td>member</td><td>Monday   </td><td>470655</td></tr>\n",
       "\t<tr><td>member</td><td>Tuesday  </td><td>520398</td></tr>\n",
       "\t<tr><td>member</td><td>Wednesday</td><td>543998</td></tr>\n",
       "\t<tr><td>member</td><td>Thursday </td><td>529640</td></tr>\n",
       "\t<tr><td>member</td><td>Friday   </td><td>459655</td></tr>\n",
       "\t<tr><td>member</td><td>Saturday </td><td>433270</td></tr>\n",
       "</tbody>\n",
       "</table>\n"
      ],
      "text/latex": [
       "A tibble: 14 × 3\n",
       "\\begin{tabular}{lll}\n",
       " member\\_casual & Day\\_OF\\_Week & number\\_of\\_rides\\\\\n",
       " <chr> & <ord> & <int>\\\\\n",
       "\\hline\n",
       "\t casual & Sunday    & 430235\\\\\n",
       "\t casual & Monday    & 319082\\\\\n",
       "\t casual & Tuesday   & 277307\\\\\n",
       "\t casual & Wednesday & 315546\\\\\n",
       "\t casual & Thursday  & 332248\\\\\n",
       "\t casual & Friday    & 342139\\\\\n",
       "\t casual & Saturday  & 463655\\\\\n",
       "\t member & Sunday    & 403438\\\\\n",
       "\t member & Monday    & 470655\\\\\n",
       "\t member & Tuesday   & 520398\\\\\n",
       "\t member & Wednesday & 543998\\\\\n",
       "\t member & Thursday  & 529640\\\\\n",
       "\t member & Friday    & 459655\\\\\n",
       "\t member & Saturday  & 433270\\\\\n",
       "\\end{tabular}\n"
      ],
      "text/markdown": [
       "\n",
       "A tibble: 14 × 3\n",
       "\n",
       "| member_casual &lt;chr&gt; | Day_OF_Week &lt;ord&gt; | number_of_rides &lt;int&gt; |\n",
       "|---|---|---|\n",
       "| casual | Sunday    | 430235 |\n",
       "| casual | Monday    | 319082 |\n",
       "| casual | Tuesday   | 277307 |\n",
       "| casual | Wednesday | 315546 |\n",
       "| casual | Thursday  | 332248 |\n",
       "| casual | Friday    | 342139 |\n",
       "| casual | Saturday  | 463655 |\n",
       "| member | Sunday    | 403438 |\n",
       "| member | Monday    | 470655 |\n",
       "| member | Tuesday   | 520398 |\n",
       "| member | Wednesday | 543998 |\n",
       "| member | Thursday  | 529640 |\n",
       "| member | Friday    | 459655 |\n",
       "| member | Saturday  | 433270 |\n",
       "\n"
      ],
      "text/plain": [
       "   member_casual Day_OF_Week number_of_rides\n",
       "1  casual        Sunday      430235         \n",
       "2  casual        Monday      319082         \n",
       "3  casual        Tuesday     277307         \n",
       "4  casual        Wednesday   315546         \n",
       "5  casual        Thursday    332248         \n",
       "6  casual        Friday      342139         \n",
       "7  casual        Saturday    463655         \n",
       "8  member        Sunday      403438         \n",
       "9  member        Monday      470655         \n",
       "10 member        Tuesday     520398         \n",
       "11 member        Wednesday   543998         \n",
       "12 member        Thursday    529640         \n",
       "13 member        Friday      459655         \n",
       "14 member        Saturday    433270         "
      ]
     },
     "metadata": {},
     "output_type": "display_data"
    }
   ],
   "source": [
    "# Lets see Total ride count of member vs casual by each day\n",
    "\n",
    "# Lets order the days of the week and month\n",
    "\n",
    "Bike_Data$Day_OF_Week <- ordered(Bike_Data$Day_OF_Week, levels =c('Sunday', 'Monday', 'Tuesday', 'Wednesday', 'Thursday','Friday',\n",
    "'Saturday'))\n",
    "\n",
    "Bike_Data %>%\n",
    " group_by(member_casual,Day_OF_Week) %>%\n",
    "summarise(number_of_rides= n(),.groups =\"drop\") %>% arrange(member_casual,Day_OF_Week)\n"
   ]
  },
  {
   "cell_type": "code",
   "execution_count": 19,
   "id": "d15e41f1",
   "metadata": {
    "execution": {
     "iopub.execute_input": "2022-11-15T21:17:32.306925Z",
     "iopub.status.busy": "2022-11-15T21:17:32.305005Z",
     "iopub.status.idle": "2022-11-15T21:17:32.875873Z",
     "shell.execute_reply": "2022-11-15T21:17:32.873728Z"
    },
    "papermill": {
     "duration": 0.587386,
     "end_time": "2022-11-15T21:17:32.878560",
     "exception": false,
     "start_time": "2022-11-15T21:17:32.291174",
     "status": "completed"
    },
    "tags": []
   },
   "outputs": [
    {
     "data": {
      "image/png": "[encoded data removed]"
     },
     "metadata": {
      "image/png": {
       "height": 420,
       "width": 420
      }
     },
     "output_type": "display_data"
    }
   ],
   "source": [
    "# Let's visualize days of the week and number of rides taken by member and casual riders.\n",
    "\n",
    "Bike_Data %>% group_by(member_casual,Day_OF_Week) %>%\n",
    "summarise(number_of_rides= n(),.groups =\"drop\") %>% arrange(member_casual,Day_OF_Week)%>%\n",
    "ggplot(aes(x = Day_OF_Week, y = number_of_rides, fill = member_casual)) +\n",
    " labs(title =\"Total rides of Members and Casual riders Vs. Day of the week\") +\n",
    " geom_col(width=0.5, position = position_dodge(width=0.5)) \n",
    "\n"
   ]
  },
  {
   "cell_type": "markdown",
   "id": "41dd6238",
   "metadata": {
    "papermill": {
     "duration": 0.011981,
     "end_time": "2022-11-15T21:17:32.902567",
     "exception": false,
     "start_time": "2022-11-15T21:17:32.890586",
     "status": "completed"
    },
    "tags": []
   },
   "source": [
    "> By observing above chart it is clear that casual riders are active in weekend and member are more active in weekdays as comparison to weekend."
   ]
  },
  {
   "cell_type": "code",
   "execution_count": 20,
   "id": "32006474",
   "metadata": {
    "execution": {
     "iopub.execute_input": "2022-11-15T21:17:32.930367Z",
     "iopub.status.busy": "2022-11-15T21:17:32.928563Z",
     "iopub.status.idle": "2022-11-15T21:17:33.580437Z",
     "shell.execute_reply": "2022-11-15T21:17:33.578342Z"
    },
    "papermill": {
     "duration": 0.668792,
     "end_time": "2022-11-15T21:17:33.582853",
     "exception": false,
     "start_time": "2022-11-15T21:17:32.914061",
     "status": "completed"
    },
    "tags": []
   },
   "outputs": [
    {
     "data": {
      "image/png": "[encoded data removed]"
     },
     "metadata": {
      "image/png": {
       "height": 420,
       "width": 420
      }
     },
     "output_type": "display_data"
    }
   ],
   "source": [
    "# By months\n",
    "\n",
    "Bike_Data$Month <- ordered(Bike_Data$Month, levels =c('January','February','March','April','May','June','July','August','September','October','November','December'))\n",
    "\n",
    "Bike_Data %>%\n",
    " group_by(member_casual,Month) %>%\n",
    "  summarise(number_of_rides= n(),.groups =\"drop\") %>% arrange(member_casual,Month)%>%\n",
    "ggplot(aes(x = Month, y = number_of_rides, fill = member_casual)) +\n",
    " labs(title =\"Total rides of Members and Casual riders Vs. Day of the week\") +\n",
    " geom_col(width=.7, position = position_dodge(width=.5)) +\n",
    "theme(axis.text.x = element_text(angle = 60, hjust = 1))\n"
   ]
  },
  {
   "cell_type": "markdown",
   "id": "7eb05fe2",
   "metadata": {
    "papermill": {
     "duration": 0.013031,
     "end_time": "2022-11-15T21:17:33.608768",
     "exception": false,
     "start_time": "2022-11-15T21:17:33.595737",
     "status": "completed"
    },
    "tags": []
   },
   "source": [
    "> By obeserving above graph we can see that member were active throughout the year except in August where casual rider taken more ride."
   ]
  },
  {
   "cell_type": "code",
   "execution_count": 21,
   "id": "4d42d967",
   "metadata": {
    "execution": {
     "iopub.execute_input": "2022-11-15T21:17:33.637755Z",
     "iopub.status.busy": "2022-11-15T21:17:33.635938Z",
     "iopub.status.idle": "2022-11-15T21:17:34.288492Z",
     "shell.execute_reply": "2022-11-15T21:17:34.286029Z"
    },
    "papermill": {
     "duration": 0.671913,
     "end_time": "2022-11-15T21:17:34.293106",
     "exception": false,
     "start_time": "2022-11-15T21:17:33.621193",
     "status": "completed"
    },
    "tags": []
   },
   "outputs": [
    {
     "data": {
      "image/png": "[encoded data removed]"
     },
     "metadata": {
      "image/png": {
       "height": 420,
       "width": 420
      }
     },
     "output_type": "display_data"
    }
   ],
   "source": [
    "# Lets see Total ride length/time of member vs casual by each day\n",
    "\n",
    "Bike_Data %>%\n",
    "group_by(member_casual,Day_OF_Week) %>%\n",
    "summarise(AVG_ride_length=mean(ride_length),.groups =\"drop\")%>% arrange(member_casual,Day_OF_Week)%>%\n",
    "ggplot(aes(x = Day_OF_Week, y = AVG_ride_length,,fill=member_casual))+\n",
    " geom_col(,width=.98, position = position_dodge(width=.98)) +\n",
    "  labs(title = \"Average distance traveled by Members and Casual riders\")+\n",
    "geom_text(aes(label = AVG_ride_length, y =AVG_ride_length), size = 3)+theme(text = element_text(size = 9),element_line(size =1))\n"
   ]
  },
  {
   "cell_type": "markdown",
   "id": "4eb01b81",
   "metadata": {
    "papermill": {
     "duration": 0.018384,
     "end_time": "2022-11-15T21:17:34.330263",
     "exception": false,
     "start_time": "2022-11-15T21:17:34.311879",
     "status": "completed"
    },
    "tags": []
   },
   "source": [
    "> By observing above graph we can see that ride duration is more for casual rider through the week however for member ride durtation is more on weekend."
   ]
  },
  {
   "cell_type": "code",
   "execution_count": 22,
   "id": "c57b737b",
   "metadata": {
    "execution": {
     "iopub.execute_input": "2022-11-15T21:17:34.374100Z",
     "iopub.status.busy": "2022-11-15T21:17:34.371827Z",
     "iopub.status.idle": "2022-11-15T21:17:34.897603Z",
     "shell.execute_reply": "2022-11-15T21:17:34.895326Z"
    },
    "papermill": {
     "duration": 0.548711,
     "end_time": "2022-11-15T21:17:34.900608",
     "exception": false,
     "start_time": "2022-11-15T21:17:34.351897",
     "status": "completed"
    },
    "tags": []
   },
   "outputs": [
    {
     "data": {
      "image/png": "[encoded data removed]"
     },
     "metadata": {
      "image/png": {
       "height": 420,
       "width": 420
      }
     },
     "output_type": "display_data"
    }
   ],
   "source": [
    "#Visualising riding behaviour of member and casual by ride distance\n",
    "\n",
    "Bike_Data %>%\n",
    "group_by(member_casual) %>%\n",
    "summarise(AVG_ride_length=mean(ride_length))%>% arrange(member_casual)%>%\n",
    "ggplot(aes(x=member_casual,y=AVG_ride_length,fill =member_casual))+\n",
    "geom_col(position='dodge')+\n",
    "  labs(title = \"Average distance traveled by Members and Casual riders\")\n",
    "\n"
   ]
  },
  {
   "cell_type": "markdown",
   "id": "aa0dfe81",
   "metadata": {
    "papermill": {
     "duration": 0.015361,
     "end_time": "2022-11-15T21:17:34.930593",
     "exception": false,
     "start_time": "2022-11-15T21:17:34.915232",
     "status": "completed"
    },
    "tags": []
   },
   "source": [
    "This graps validating the above graph that causal rider travelling more distance than member"
   ]
  },
  {
   "cell_type": "code",
   "execution_count": 23,
   "id": "f6c88aa4",
   "metadata": {
    "execution": {
     "iopub.execute_input": "2022-11-15T21:17:34.964703Z",
     "iopub.status.busy": "2022-11-15T21:17:34.962924Z",
     "iopub.status.idle": "2022-11-15T21:17:38.816597Z",
     "shell.execute_reply": "2022-11-15T21:17:38.814307Z"
    },
    "papermill": {
     "duration": 3.87329,
     "end_time": "2022-11-15T21:17:38.819747",
     "exception": false,
     "start_time": "2022-11-15T21:17:34.946457",
     "status": "completed"
    },
    "tags": []
   },
   "outputs": [
    {
     "data": {
      "image/png": "[encoded data removed]"
     },
     "metadata": {
      "image/png": {
       "height": 420,
       "width": 420
      }
     },
     "output_type": "display_data"
    }
   ],
   "source": [
    "# Visualising bike usage pattern by member\n",
    "\n",
    "Bike_Data %>% filter(member_casual ==\"member\")%>%\n",
    "group_by(Day_OF_Week,rideable_type) %>%\n",
    "summarise(N= n(),.groups =\"drop\")%>% mutate(percent =N*100/sum(N))%>%\n",
    "ggplot(aes(x=Day_OF_Week,y=N,fill =rideable_type),)+geom_bar(stat = 'identity')+\n",
    "  labs(title = \"Bike usage pattern by member\")+\n",
    "geom_text(aes(label =N , y =N), size = 3)\n",
    "\n",
    "#N=Number_of_rides\n"
   ]
  },
  {
   "cell_type": "markdown",
   "id": "77aa2e35",
   "metadata": {
    "papermill": {
     "duration": 0.015828,
     "end_time": "2022-11-15T21:17:38.850689",
     "exception": false,
     "start_time": "2022-11-15T21:17:38.834861",
     "status": "completed"
    },
    "tags": []
   },
   "source": [
    "By observing above graph we can see that usage of classic bike is more then electric bike by member rider"
   ]
  },
  {
   "cell_type": "markdown",
   "id": "881d5c30",
   "metadata": {
    "papermill": {
     "duration": 0.015074,
     "end_time": "2022-11-15T21:17:38.880505",
     "exception": false,
     "start_time": "2022-11-15T21:17:38.865431",
     "status": "completed"
    },
    "tags": []
   },
   "source": [
    "From the above graph, we can observe that casual riders went a longer distance compared to members by a few kilometer.\n"
   ]
  },
  {
   "cell_type": "markdown",
   "id": "49f558f3",
   "metadata": {
    "papermill": {
     "duration": 0.014888,
     "end_time": "2022-11-15T21:17:38.910140",
     "exception": false,
     "start_time": "2022-11-15T21:17:38.895252",
     "status": "completed"
    },
    "tags": []
   },
   "source": [
    "## Share -5"
   ]
  },
  {
   "cell_type": "markdown",
   "id": "a42597c1",
   "metadata": {
    "papermill": {
     "duration": 0.015461,
     "end_time": "2022-11-15T21:17:38.940577",
     "exception": false,
     "start_time": "2022-11-15T21:17:38.925116",
     "status": "completed"
    },
    "tags": []
   },
   "source": [
    "**Shared the presentation of how annual members and casual riders use Cyclistic bikes differently.\n",
    "**\n",
    "\n",
    "> Key tasks\n",
    "> 1. Determine the best way to share your findings.\n",
    "2. Create effective data visualizations.\n",
    "3. Present your findings.\n",
    "4. Ensure your work is accessible.\n",
    "\n",
    "**Deliverable\n",
    "**\n",
    "Supporting visualizations and key findings"
   ]
  },
  {
   "cell_type": "markdown",
   "id": "65f05b13",
   "metadata": {
    "papermill": {
     "duration": 0.01502,
     "end_time": "2022-11-15T21:17:38.970844",
     "exception": false,
     "start_time": "2022-11-15T21:17:38.955824",
     "status": "completed"
    },
    "tags": []
   },
   "source": [
    "## ACT -6"
   ]
  },
  {
   "cell_type": "markdown",
   "id": "8b4b129f",
   "metadata": {
    "papermill": {
     "duration": 0.014817,
     "end_time": "2022-11-15T21:17:39.000349",
     "exception": false,
     "start_time": "2022-11-15T21:17:38.985532",
     "status": "completed"
    },
    "tags": []
   },
   "source": [
    "This phase will be carried out by the executive team, Director of Marketing (Lily Moreno) and the Marketing Analytics team based on my analysis.\n",
    "\n",
    "**Conclusion**\n",
    "\n",
    "* Member riders are active throughout the week although casual rides are active mostly on weekends.\n",
    "* Member riders are taking rides throughout the year although they are more active in June, July & August, casual riders take more rides in August as compare to member.\n",
    "* Casual rider riding more distance.\n",
    "* Casual rider spending more time.\n",
    "\n",
    "> There might be a reason behind this that member use bikes for work purposes, bike usage are higher in colder months, where there is a significant drop in casual members in those months.\n",
    "\n",
    "\n",
    "**Deliverable**\n",
    "\n",
    "> Top three recommendations based on the analysis.\n",
    " \n",
    "* Various coupons and discounts could be handed out along with the annual subscription or weekend-only membership targeting casual riders.  \n",
    "* Can host fun biking competitions with prizes at intervals for members on the weekends. Since there are lot of casual riders on weekends,this will also attract them to get a membership. \n",
    "* Create marketing campaigns which can be sent via email, or advertisement in the docking stations explaining why annual member is beneficial. Campaigns should be placed at the peak months of the year targeting casual riders. "
   ]
  },
  {
   "cell_type": "markdown",
   "id": "731a0e5f",
   "metadata": {
    "papermill": {
     "duration": 0.015385,
     "end_time": "2022-11-15T21:17:39.031167",
     "exception": false,
     "start_time": "2022-11-15T21:17:39.015782",
     "status": "completed"
    },
    "tags": []
   },
   "source": [
    "## Resources\n",
    "\n",
    "[RDocumentation](http://www.rdocumentation.org)\n",
    "\n",
    "[RStudio](http://community.rstudio.com) and [Kaggle](http://www.kaggle.com/discussion) community.\n",
    "\n"
   ]
  },
  {
   "cell_type": "markdown",
   "id": "a84b4924",
   "metadata": {
    "papermill": {
     "duration": 0.014836,
     "end_time": "2022-11-15T21:17:39.060827",
     "exception": false,
     "start_time": "2022-11-15T21:17:39.045991",
     "status": "completed"
    },
    "tags": []
   },
   "source": [
    "**> Thanks for reading and I hope you like it. Please give your valuable feedback.**"
   ]
  },
  {
   "cell_type": "markdown",
   "id": "5dcc947d",
   "metadata": {
    "papermill": {
     "duration": 0.014741,
     "end_time": "2022-11-15T21:17:39.090239",
     "exception": false,
     "start_time": "2022-11-15T21:17:39.075498",
     "status": "completed"
    },
    "tags": []
   },
   "source": [
    "> For the Kaggle Notebook access and to check detailed analysis with proper output details of the code please visit my Notebook."
   ]
  }
 ],
 "metadata": {
  "kernelspec": {
   "display_name": "R",
   "language": "R",
   "name": "ir"
  },
  "language_info": {
   "codemirror_mode": "r",
   "file_extension": ".r",
   "mimetype": "text/x-r-source",
   "name": "R",
   "pygments_lexer": "r",
   "version": "4.0.5"
  },
  "papermill": {
   "default_parameters": {},
   "duration": 334.90294,
   "end_time": "2022-11-15T21:17:39.429867",
   "environment_variables": {},
   "exception": null,
   "input_path": "__notebook__.ipynb",
   "output_path": "__notebook__.ipynb",
   "parameters": {},
   "start_time": "2022-11-15T21:12:04.526927",
   "version": "2.4.0"
  }
 },
 "nbformat": 4,
 "nbformat_minor": 5
}
